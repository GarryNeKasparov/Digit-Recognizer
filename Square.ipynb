{
  "nbformat": 4,
  "nbformat_minor": 0,
  "metadata": {
    "colab": {
      "name": "Square.ipynb",
      "provenance": [],
      "authorship_tag": "ABX9TyNW/IjHPCJea/QcE7wU65zr",
      "include_colab_link": true
    },
    "kernelspec": {
      "name": "python3",
      "display_name": "Python 3"
    }
  },
  "cells": [
    {
      "cell_type": "markdown",
      "metadata": {
        "id": "view-in-github",
        "colab_type": "text"
      },
      "source": [
        "<a href=\"https://colab.research.google.com/github/GarryNeKasparov/Digit-Recognizer/blob/main/Square.ipynb\" target=\"_parent\"><img src=\"https://colab.research.google.com/assets/colab-badge.svg\" alt=\"Open In Colab\"/></a>"
      ]
    },
    {
      "cell_type": "code",
      "metadata": {
        "id": "tOj_SCNIz5_V"
      },
      "source": [
        "import numpy as np\r\n",
        "import seaborn as sns\r\n",
        "import matplotlib.pyplot as plt\r\n",
        "import pandas as pd\r\n",
        "import torch\r\n",
        "import torch.nn as nn\r\n",
        "import torch.nn.functional as F\r\n",
        "from torchvision import datasets, transforms"
      ],
      "execution_count": null,
      "outputs": []
    },
    {
      "cell_type": "code",
      "metadata": {
        "id": "pUJqq_-l0XVL"
      },
      "source": [
        "class Network(nn.Module):\r\n",
        "  def __init__(self):\r\n",
        "    super().__init__()\r\n",
        "    self.hidden = nn.Linear(784, 128)\r\n",
        "    self.output = nn.Linear(128, 10)\r\n",
        "\r\n",
        "    self.sigmoid = nn.Sigmoid()\r\n",
        "    self.softmax = nn.Softmax(dim = 1)\r\n",
        "\r\n",
        "  def forward(self, x):\r\n",
        "    x = self.hidden(x)\r\n",
        "    x = self.sigmoid(x)\r\n",
        "    x = self.output(x)\r\n",
        "    x = self.softmax(x)\r\n",
        "    return x"
      ],
      "execution_count": null,
      "outputs": []
    },
    {
      "cell_type": "code",
      "metadata": {
        "colab": {
          "base_uri": "https://localhost:8080/"
        },
        "id": "JJGu3x0w8SwL",
        "outputId": "b8248a47-8cf2-4652-d7fb-cad3e1c50bbf"
      },
      "source": [
        "model = Network()\r\n",
        "model"
      ],
      "execution_count": null,
      "outputs": [
        {
          "output_type": "execute_result",
          "data": {
            "text/plain": [
              "Network(\n",
              "  (hidden): Linear(in_features=784, out_features=128, bias=True)\n",
              "  (output): Linear(in_features=128, out_features=10, bias=True)\n",
              "  (sigmoid): Sigmoid()\n",
              "  (softmax): Softmax(dim=1)\n",
              ")"
            ]
          },
          "metadata": {
            "tags": []
          },
          "execution_count": 9
        }
      ]
    },
    {
      "cell_type": "code",
      "metadata": {
        "id": "Apfu68wnfbuH"
      },
      "source": [
        "transform = transforms.Compose(transforms.ToTensor(),\r\n",
        "                               transforms.)"
      ],
      "execution_count": null,
      "outputs": []
    }
  ]
}